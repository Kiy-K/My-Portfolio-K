{
  "cells": [
    {
      "cell_type": "markdown",
      "metadata": {
        "id": "view-in-github",
        "colab_type": "text"
      },
      "source": [
        "<a href=\"https://colab.research.google.com/github/Kiy-K/My-Portfolio-K/blob/main/apps/opik-documentation/documentation/docs/cookbook/quickstart_notebook.ipynb\" target=\"_parent\"><img src=\"https://colab.research.google.com/assets/colab-badge.svg\" alt=\"Open In Colab\"/></a>"
      ]
    },
    {
      "cell_type": "markdown",
      "metadata": {
        "id": "hMmyEnPK4yVn"
      },
      "source": [
        "# Quickstart notebook - Summarization\n",
        "\n",
        "In this notebook, we will look at how you can use Opik to track your LLM calls, chains and agents. We will introduce the concept of tracing and how to automate the evaluation of your LLM workflows.\n",
        "\n",
        "We will be using a technique called Chain of Density Summarization to summarize Arxiv papers. You can learn more about this technique in the [From Sparse to Dense: GPT-4 Summarization with Chain of Density Prompting](https://arxiv.org/abs/2309.04269) paper."
      ]
    },
    {
      "cell_type": "markdown",
      "metadata": {
        "id": "afBeFfJo4yVo"
      },
      "source": [
        "## Getting started\n",
        "\n",
        "We will first install the required dependencies and configure both Opik and OpenAI."
      ]
    },
    {
      "cell_type": "code",
      "execution_count": 1,
      "metadata": {
        "id": "1CSRfvw-4yVo",
        "outputId": "0f6520cc-a9d4-4321-cb21-1c28d999c67a",
        "colab": {
          "base_uri": "https://localhost:8080/"
        }
      },
      "outputs": [
        {
          "output_type": "stream",
          "name": "stdout",
          "text": [
            "\u001b[2K     \u001b[90m━━━━━━━━━━━━━━━━━━━━━━━━━━━━━━━━━━━━━━━\u001b[0m \u001b[32m152.2/152.2 kB\u001b[0m \u001b[31m5.8 MB/s\u001b[0m eta \u001b[36m0:00:00\u001b[0m\n",
            "\u001b[2K     \u001b[90m━━━━━━━━━━━━━━━━━━━━━━━━━━━━━━━━━━━━━━━━\u001b[0m \u001b[32m42.8/42.8 kB\u001b[0m \u001b[31m1.9 MB/s\u001b[0m eta \u001b[36m0:00:00\u001b[0m\n",
            "\u001b[2K     \u001b[90m━━━━━━━━━━━━━━━━━━━━━━━━━━━━━━━━━━━━━━━━\u001b[0m \u001b[32m81.4/81.4 kB\u001b[0m \u001b[31m4.7 MB/s\u001b[0m eta \u001b[36m0:00:00\u001b[0m\n",
            "\u001b[?25h  Preparing metadata (setup.py) ... \u001b[?25l\u001b[?25hdone\n",
            "\u001b[2K   \u001b[90m━━━━━━━━━━━━━━━━━━━━━━━━━━━━━━━━━━━━━━━━\u001b[0m \u001b[32m775.6/775.6 kB\u001b[0m \u001b[31m19.7 MB/s\u001b[0m eta \u001b[36m0:00:00\u001b[0m\n",
            "\u001b[2K   \u001b[90m━━━━━━━━━━━━━━━━━━━━━━━━━━━━━━━━━━━━━━━━\u001b[0m \u001b[32m999.9/999.9 kB\u001b[0m \u001b[31m47.5 MB/s\u001b[0m eta \u001b[36m0:00:00\u001b[0m\n",
            "\u001b[2K   \u001b[90m━━━━━━━━━━━━━━━━━━━━━━━━━━━━━━━━━━━━━━━━\u001b[0m \u001b[32m64.7/64.7 kB\u001b[0m \u001b[31m4.5 MB/s\u001b[0m eta \u001b[36m0:00:00\u001b[0m\n",
            "\u001b[2K   \u001b[90m━━━━━━━━━━━━━━━━━━━━━━━━━━━━━━━━━━━━━━━━\u001b[0m \u001b[32m232.6/232.6 kB\u001b[0m \u001b[31m16.5 MB/s\u001b[0m eta \u001b[36m0:00:00\u001b[0m\n",
            "\u001b[2K   \u001b[90m━━━━━━━━━━━━━━━━━━━━━━━━━━━━━━━━━━━━━━━━\u001b[0m \u001b[32m69.7/69.7 kB\u001b[0m \u001b[31m4.7 MB/s\u001b[0m eta \u001b[36m0:00:00\u001b[0m\n",
            "\u001b[2K   \u001b[90m━━━━━━━━━━━━━━━━━━━━━━━━━━━━━━━━━━━━━━━━\u001b[0m \u001b[32m9.1/9.1 MB\u001b[0m \u001b[31m78.4 MB/s\u001b[0m eta \u001b[36m0:00:00\u001b[0m\n",
            "\u001b[2K   \u001b[90m━━━━━━━━━━━━━━━━━━━━━━━━━━━━━━━━━━━━━━━━\u001b[0m \u001b[32m3.2/3.2 MB\u001b[0m \u001b[31m68.2 MB/s\u001b[0m eta \u001b[36m0:00:00\u001b[0m\n",
            "\u001b[2K   \u001b[90m━━━━━━━━━━━━━━━━━━━━━━━━━━━━━━━━━━━━━━━━\u001b[0m \u001b[32m272.3/272.3 kB\u001b[0m \u001b[31m16.4 MB/s\u001b[0m eta \u001b[36m0:00:00\u001b[0m\n",
            "\u001b[2K   \u001b[90m━━━━━━━━━━━━━━━━━━━━━━━━━━━━━━━━━━━━━━━━\u001b[0m \u001b[32m66.5/66.5 kB\u001b[0m \u001b[31m3.5 MB/s\u001b[0m eta \u001b[36m0:00:00\u001b[0m\n",
            "\u001b[2K   \u001b[90m━━━━━━━━━━━━━━━━━━━━━━━━━━━━━━━━━━━━━━━━\u001b[0m \u001b[32m41.9/41.9 kB\u001b[0m \u001b[31m1.3 MB/s\u001b[0m eta \u001b[36m0:00:00\u001b[0m\n",
            "\u001b[?25h  Building wheel for madoka (setup.py) ... \u001b[?25l\u001b[?25hdone\n",
            "\u001b[31mERROR: pip's dependency resolver does not currently take into account all the packages that are installed. This behaviour is the source of the following dependency conflicts.\n",
            "google-colab 1.0.0 requires requests==2.32.4, but you have requests 2.32.5 which is incompatible.\u001b[0m\u001b[31m\n",
            "\u001b[0m"
          ]
        }
      ],
      "source": [
        "%pip install -U opik openai requests PyPDF2 --quiet"
      ]
    },
    {
      "cell_type": "markdown",
      "metadata": {
        "id": "ZCYurnBz4yVp"
      },
      "source": [
        "\n",
        "[Comet](https://www.comet.com/site?from=llm&utm_source=opik&utm_medium=colab&utm_content=langchain&utm_campaign=opik) provides a hosted version of the Opik platform, [simply create an account](https://www.comet.com/signup?from=llm&utm_source=opik&utm_medium=colab&utm_content=langchain&utm_campaign=opik) and grab your API Key.\n",
        "\n",
        "> You can also run the Opik platform locally, see the [installation guide](https://www.comet.com/docs/opik/self-host/overview/?from=llm&utm_source=opik&utm_medium=colab&utm_content=langchain&utm_campaign=opik) for more information."
      ]
    },
    {
      "cell_type": "code",
      "execution_count": 2,
      "metadata": {
        "id": "6uGPmTXu4yVq",
        "outputId": "098021c3-b1fd-41b9-8c7d-45c4d0f5c712",
        "colab": {
          "base_uri": "https://localhost:8080/"
        }
      },
      "outputs": [
        {
          "output_type": "stream",
          "name": "stderr",
          "text": [
            "OPIK: Your Opik API key is available in your account settings, can be found at https://www.comet.com/api/my/settings/ for Opik cloud\n"
          ]
        },
        {
          "name": "stdout",
          "output_type": "stream",
          "text": [
            "Please enter your Opik API key:··········\n",
            "Do you want to use \"kh-i-tr-ng\" workspace? (Y/n)Y\n"
          ]
        },
        {
          "output_type": "stream",
          "name": "stderr",
          "text": [
            "OPIK: Configuration saved to file: /root/.opik.config\n",
            "OPIK: Configuration completed successfully. Traces will be logged to 'Default Project' by default. To change the destination project, see: https://www.comet.com/docs/opik/tracing/log_traces#configuring-the-project-name\n"
          ]
        }
      ],
      "source": [
        "import opik\n",
        "\n",
        "# Configure Opik\n",
        "opik.configure()"
      ]
    },
    {
      "cell_type": "markdown",
      "metadata": {
        "id": "Jn4B7KMH4yVq"
      },
      "source": [
        "## Implementing Chain of Density Summarization\n",
        "\n",
        "The idea behind this approach is to first generate a sparse candidate summary and then iteratively refine it with missing information without making it longer. We will start by defining two prompts:\n",
        "\n",
        "1. Iteration summary prompt: This prompt is used to generate and refine a candidate summary.\n",
        "2. Final summary prompt: This prompt is used to generate the final summary from the sparse set of candidate summaries."
      ]
    },
    {
      "cell_type": "code",
      "execution_count": 3,
      "metadata": {
        "id": "6XCVCmYj4yVq"
      },
      "outputs": [],
      "source": [
        "import opik\n",
        "\n",
        "ITERATION_SUMMARY_PROMPT = opik.Prompt(\n",
        "    name=\"Iteration Summary Prompt\",\n",
        "    prompt=\"\"\"\n",
        "Document: {{document}}\n",
        "Current summary: {{current_summary}}\n",
        "Instruction to focus on: {{instruction}}\n",
        "\n",
        "Generate a concise, entity-dense, and highly technical summary from the provided Document that specifically addresses the given Instruction.\n",
        "\n",
        "Guidelines:\n",
        "- Make every word count: If there is a current summary re-write it to improve flow, density and conciseness.\n",
        "- Remove uninformative phrases like \"the article discusses\".\n",
        "- The summary should become highly dense and concise yet self-contained, e.g. , easily understood without the Document.\n",
        "- Make sure that the summary specifically addresses the given Instruction\n",
        "\"\"\".rstrip().lstrip(),\n",
        ")\n",
        "\n",
        "FINAL_SUMMARY_PROMPT = opik.Prompt(\n",
        "    name=\"Final Summary Prompt\",\n",
        "    prompt=\"\"\"\n",
        "Given this summary: {{current_summary}}\n",
        "And this instruction to focus on: {{instruction}}\n",
        "Create an extremely dense, final summary that captures all key technical information in the most concise form possible, while specifically addressing the given instruction.\n",
        "\"\"\".rstrip().lstrip(),\n",
        ")"
      ]
    },
    {
      "cell_type": "markdown",
      "metadata": {
        "id": "dgKoo7J14yVr"
      },
      "source": [
        "We can now define the summarization chain by combining the two prompts. In order to track the LLM calls, we will use Opik's integration with OpenAI through the `track_openai` function and we will add the `@opik.track` decorator to each function so we can track the full chain and not just individual LLM calls:"
      ]
    },
    {
      "cell_type": "code",
      "execution_count": 4,
      "metadata": {
        "id": "2mdUbBag4yVr"
      },
      "outputs": [],
      "source": [
        "from opik.integrations.openai import track_openai\n",
        "from openai import OpenAI\n",
        "import opik\n",
        "\n",
        "# Use a dedicated quickstart endpoint, replace with your own OpenAI API Key in your own code\n",
        "openai_client = track_openai(\n",
        "    OpenAI(\n",
        "        base_url=\"https://odbrly0rrk.execute-api.us-east-1.amazonaws.com/Prod/\",\n",
        "        api_key=\"Opik-Quickstart\",\n",
        "    )\n",
        ")\n",
        "\n",
        "\n",
        "@opik.track\n",
        "def summarize_current_summary(\n",
        "    document: str,\n",
        "    instruction: str,\n",
        "    current_summary: str,\n",
        "    model: str = \"gpt-4o-mini\",\n",
        "):\n",
        "    prompt = ITERATION_SUMMARY_PROMPT.format(\n",
        "        document=document, current_summary=current_summary, instruction=instruction\n",
        "    )\n",
        "\n",
        "    response = openai_client.chat.completions.create(\n",
        "        model=model, max_tokens=4096, messages=[{\"role\": \"user\", \"content\": prompt}]\n",
        "    )\n",
        "\n",
        "    return response.choices[0].message.content\n",
        "\n",
        "\n",
        "@opik.track\n",
        "def iterative_density_summarization(\n",
        "    document: str,\n",
        "    instruction: str,\n",
        "    density_iterations: int,\n",
        "    model: str = \"gpt-4o-mini\",\n",
        "):\n",
        "    summary = \"\"\n",
        "    for iteration in range(1, density_iterations + 1):\n",
        "        summary = summarize_current_summary(document, instruction, summary, model)\n",
        "    return summary\n",
        "\n",
        "\n",
        "@opik.track\n",
        "def final_summary(instruction: str, current_summary: str, model: str = \"gpt-4o-mini\"):\n",
        "    prompt = FINAL_SUMMARY_PROMPT.format(\n",
        "        current_summary=current_summary, instruction=instruction\n",
        "    )\n",
        "\n",
        "    return (\n",
        "        openai_client.chat.completions.create(\n",
        "            model=model, max_tokens=4096, messages=[{\"role\": \"user\", \"content\": prompt}]\n",
        "        )\n",
        "        .choices[0]\n",
        "        .message.content\n",
        "    )\n",
        "\n",
        "\n",
        "@opik.track(project_name=\"Chain of Density Summarization\")\n",
        "def chain_of_density_summarization(\n",
        "    document: str,\n",
        "    instruction: str,\n",
        "    model: str = \"gpt-4o-mini\",\n",
        "    density_iterations: int = 2,\n",
        "):\n",
        "    summary = iterative_density_summarization(\n",
        "        document, instruction, density_iterations, model\n",
        "    )\n",
        "    final_summary_text = final_summary(instruction, summary, model)\n",
        "\n",
        "    return final_summary_text"
      ]
    },
    {
      "cell_type": "markdown",
      "metadata": {
        "id": "PsVJx83W4yVr"
      },
      "source": [
        "Let's call the summarization chain with a sample document:"
      ]
    },
    {
      "cell_type": "code",
      "execution_count": 5,
      "metadata": {
        "id": "NZHX_bum4yVs",
        "outputId": "a7c8c408-1366-48d6-b147-08ffed872097",
        "colab": {
          "base_uri": "https://localhost:8080/"
        }
      },
      "outputs": [
        {
          "output_type": "stream",
          "name": "stderr",
          "text": [
            "OPIK: Started logging traces to the \"Chain of Density Summarization\" project at https://www.comet.com/opik/api/v1/session/redirect/projects/?trace_id=0199fbe4-a016-771f-8e7b-5f0542f01c46&path=aHR0cHM6Ly93d3cuY29tZXQuY29tL29waWsvYXBpLw==.\n"
          ]
        },
        {
          "output_type": "stream",
          "name": "stdout",
          "text": [
            "AI is transforming various industries:   - **Healthcare**: Improves diagnosis,\n",
            "predicts outcomes, and personalizes treatments. - **Finance**: Enhances fraud\n",
            "detection, facilitates algorithmic trading, and optimizes risk management. -\n",
            "**Education**: Offers personalized learning, adaptive testing, and automated\n",
            "content creation.  However, AI also poses ethical challenges like data privacy,\n",
            "algorithmic bias, and job displacement, necessitating careful management to\n",
            "harness its potential while mitigating risks.\n"
          ]
        }
      ],
      "source": [
        "import textwrap\n",
        "\n",
        "document = \"\"\"\n",
        "Artificial intelligence (AI) is transforming industries, revolutionizing healthcare, finance, education, and even creative fields. AI systems\n",
        "today are capable of performing tasks that previously required human intelligence, such as language processing, visual perception, and\n",
        "decision-making. In healthcare, AI assists in diagnosing diseases, predicting patient outcomes, and even developing personalized treatment plans.\n",
        "In finance, it helps in fraud detection, algorithmic trading, and risk management. Education systems leverage AI for personalized learning, adaptive\n",
        "testing, and educational content generation. Despite these advancements, ethical concerns such as data privacy, bias, and the impact of AI on employment\n",
        "remain. The future of AI holds immense potential, but also significant challenges.\n",
        "\"\"\"\n",
        "\n",
        "instruction = \"Summarize the main contributions of AI to different industries, and highlight both its potential and associated challenges.\"\n",
        "\n",
        "summary = chain_of_density_summarization(document, instruction)\n",
        "\n",
        "print(\"\\n\".join(textwrap.wrap(summary, width=80)))"
      ]
    },
    {
      "cell_type": "markdown",
      "metadata": {
        "id": "_rO6geWG4yVs"
      },
      "source": [
        "Thanks to the `@opik.track` decorator and Opik's integration with OpenAI, we can now track the entire chain and all the LLM calls in the Opik UI:\n",
        "\n",
        "![Trace UI](https://raw.githubusercontent.com/comet-ml/opik/main/apps/opik-documentation/documentation/static/img/cookbook/chain_density_trace_cookbook.png)"
      ]
    },
    {
      "cell_type": "markdown",
      "metadata": {
        "id": "61WY-e5r4yVt"
      },
      "source": [
        "## Automatting the evaluation process\n",
        "\n",
        "### Defining a dataset\n",
        "Now that we have a working chain, we can automate the evaluation process. We will start by defining a dataset of documents and instructions:"
      ]
    },
    {
      "cell_type": "code",
      "execution_count": 6,
      "metadata": {
        "id": "g8-jkg8i4yVt",
        "outputId": "1e366034-1793-4514-f95e-8dad76e1c1da",
        "colab": {
          "base_uri": "https://localhost:8080/"
        }
      },
      "outputs": [
        {
          "output_type": "stream",
          "name": "stderr",
          "text": [
            "OPIK: Created a \"arXiv Papers\" dataset at https://www.comet.com/opik/api/v1/session/redirect/datasets/?dataset_id=0199fbe4-c347-785f-bf3c-250793d49eea&path=aHR0cHM6Ly93d3cuY29tZXQuY29tL29waWsvYXBpLw==.\n"
          ]
        }
      ],
      "source": [
        "import opik\n",
        "\n",
        "dataset_items = [\n",
        "    {\n",
        "        \"pdf_url\": \"https://arxiv.org/pdf/2301.00234\",\n",
        "        \"title\": \"A Survey on In-context Learning\",\n",
        "        \"instruction\": \"Summarize the key findings on the impact of prompt engineering in in-context learning.\",\n",
        "    },\n",
        "    {\n",
        "        \"pdf_url\": \"https://arxiv.org/pdf/2301.03728\",\n",
        "        \"title\": \"Scaling Laws for Generative Mixed-Modal Language Models\",\n",
        "        \"instruction\": \"How do scaling laws apply to generative mixed-modal models according to the paper?\",\n",
        "    },\n",
        "    {\n",
        "        \"pdf_url\": \"https://arxiv.org/pdf/2308.10792\",\n",
        "        \"title\": \"Instruction Tuning for Large Language Models: A Survey\",\n",
        "        \"instruction\": \"What are the major challenges in instruction tuning for large language models identified in the paper?\",\n",
        "    },\n",
        "    {\n",
        "        \"pdf_url\": \"https://arxiv.org/pdf/2302.08575\",\n",
        "        \"title\": \"Foundation Models in Natural Language Processing: A Survey\",\n",
        "        \"instruction\": \"Explain the role of foundation models in the current natural language processing landscape.\",\n",
        "    },\n",
        "    {\n",
        "        \"pdf_url\": \"https://arxiv.org/pdf/2306.13398\",\n",
        "        \"title\": \"Large-scale Multi-Modal Pre-trained Models: A Comprehensive Survey\",\n",
        "        \"instruction\": \"What are the cutting edge techniques used in multi-modal pre-training models?\",\n",
        "    },\n",
        "    {\n",
        "        \"pdf_url\": \"https://arxiv.org/pdf/2103.07492\",\n",
        "        \"title\": \"Continual Learning in Neural Networks: An Empirical Evaluation\",\n",
        "        \"instruction\": \"What are the main challenges of continual learning for neural networks according to the paper?\",\n",
        "    },\n",
        "    {\n",
        "        \"pdf_url\": \"https://arxiv.org/pdf/2304.00685v2\",\n",
        "        \"title\": \"Vision-Language Models for Vision Tasks: A Survey\",\n",
        "        \"instruction\": \"What are the most widely used vision-language models?\",\n",
        "    },\n",
        "    {\n",
        "        \"pdf_url\": \"https://arxiv.org/pdf/2303.08774\",\n",
        "        \"title\": \"GPT-4 Technical Report\",\n",
        "        \"instruction\": \"What are the main differences between GPT-4 and GPT-3.5?\",\n",
        "    },\n",
        "    {\n",
        "        \"pdf_url\": \"https://arxiv.org/pdf/2406.04744\",\n",
        "        \"title\": \"CRAG -- Comprehensive RAG Benchmark\",\n",
        "        \"instruction\": \"What was the approach to experimenting with different data mixtures?\",\n",
        "    },\n",
        "]\n",
        "\n",
        "client = opik.Opik()\n",
        "DATASET_NAME = \"arXiv Papers\"\n",
        "dataset = client.get_or_create_dataset(name=DATASET_NAME)\n",
        "dataset.insert(dataset_items)"
      ]
    },
    {
      "cell_type": "markdown",
      "metadata": {
        "id": "MrMtWzjR4yVt"
      },
      "source": [
        "*Note:* Opik automatically deduplicates dataset items to make it easier to iterate on your dataset.\n",
        "\n",
        "### Defining the evaluation metrics\n",
        "\n",
        "Opik includes a [library of evaluation metrics](https://www.comet.com/docs/opik/evaluation/metrics/overview) that you can use to evaluate your chains. For this particular example, we will be using a custom metric that evaluates the relevance, conciseness and technical accuracy of each summary"
      ]
    },
    {
      "cell_type": "code",
      "execution_count": 7,
      "metadata": {
        "id": "UrEArHzy4yVt"
      },
      "outputs": [],
      "source": [
        "from opik.evaluation.metrics import base_metric, score_result\n",
        "import json\n",
        "\n",
        "# We will define the response format so the output has the correct schema. You can also use structured outputs with Pydantic models for this.\n",
        "json_schema = {\n",
        "    \"type\": \"json_schema\",\n",
        "    \"json_schema\": {\n",
        "        \"name\": \"summary_evaluation_schema\",\n",
        "        \"schema\": {\n",
        "            \"type\": \"object\",\n",
        "            \"properties\": {\n",
        "                \"relevance\": {\n",
        "                    \"type\": \"object\",\n",
        "                    \"properties\": {\n",
        "                        \"score\": {\n",
        "                            \"type\": \"integer\",\n",
        "                            \"minimum\": 1,\n",
        "                            \"maximum\": 5,\n",
        "                            \"description\": \"Score between 1-5 for how well the summary addresses the instruction\",\n",
        "                        },\n",
        "                        \"explanation\": {\n",
        "                            \"type\": \"string\",\n",
        "                            \"description\": \"Brief explanation of the relevance score\",\n",
        "                        },\n",
        "                    },\n",
        "                    \"required\": [\"score\", \"explanation\"],\n",
        "                },\n",
        "                \"conciseness\": {\n",
        "                    \"type\": \"object\",\n",
        "                    \"properties\": {\n",
        "                        \"score\": {\n",
        "                            \"type\": \"integer\",\n",
        "                            \"minimum\": 1,\n",
        "                            \"maximum\": 5,\n",
        "                            \"description\": \"Score between 1-5 for how concise the summary is while retaining key information\",\n",
        "                        },\n",
        "                        \"explanation\": {\n",
        "                            \"type\": \"string\",\n",
        "                            \"description\": \"Brief explanation of the conciseness score\",\n",
        "                        },\n",
        "                    },\n",
        "                    \"required\": [\"score\", \"explanation\"],\n",
        "                },\n",
        "                \"technical_accuracy\": {\n",
        "                    \"type\": \"object\",\n",
        "                    \"properties\": {\n",
        "                        \"score\": {\n",
        "                            \"type\": \"integer\",\n",
        "                            \"minimum\": 1,\n",
        "                            \"maximum\": 5,\n",
        "                            \"description\": \"Score between 1-5 for how accurately the summary conveys technical details\",\n",
        "                        },\n",
        "                        \"explanation\": {\n",
        "                            \"type\": \"string\",\n",
        "                            \"description\": \"Brief explanation of the technical accuracy score\",\n",
        "                        },\n",
        "                    },\n",
        "                    \"required\": [\"score\", \"explanation\"],\n",
        "                },\n",
        "            },\n",
        "            \"required\": [\"relevance\", \"conciseness\", \"technical_accuracy\"],\n",
        "            \"additionalProperties\": False,\n",
        "        },\n",
        "    },\n",
        "}\n",
        "\n",
        "\n",
        "# Custom Metric: One template/prompt to extract 4 scores/results\n",
        "class EvaluateSummary(base_metric.BaseMetric):\n",
        "    # Constructor\n",
        "    def __init__(self, name: str):\n",
        "        self.name = name\n",
        "\n",
        "    def score(\n",
        "        self, summary: str, instruction: str, model: str = \"gpt-4o-mini\", **kwargs\n",
        "    ):\n",
        "        prompt = f\"\"\"\n",
        "            Summary: {summary}\n",
        "            Instruction: {instruction}\n",
        "\n",
        "            Evaluate the summary based on the following criteria:\n",
        "            1. Relevance (1-5): How well does the summary address the given instruction?\n",
        "            2. Conciseness (1-5): How concise is the summary while retaining key information?\n",
        "            3. Technical Accuracy (1-5): How accurately does the summary convey technical details?\n",
        "\n",
        "            Your response MUST be in the following JSON format:\n",
        "            {{\n",
        "                \"relevance\": {{\n",
        "                    \"score\": <int>,\n",
        "                    \"explanation\": \"<string>\"\n",
        "                }},\n",
        "            \"conciseness\": {{\n",
        "                \"score\": <int>,\n",
        "                \"explanation\": \"<string>\"\n",
        "                }},\n",
        "            \"technical_accuracy\": {{\n",
        "                \"score\": <int>,\n",
        "                \"explanation\": \"<string>\"\n",
        "                }}\n",
        "            }}\n",
        "\n",
        "            Ensure that the scores are integers between 1 and 5, and that the explanations are concise.\n",
        "        \"\"\"\n",
        "\n",
        "        response = openai_client.chat.completions.create(\n",
        "            model=model,\n",
        "            max_tokens=1000,\n",
        "            messages=[{\"role\": \"user\", \"content\": prompt}],\n",
        "            response_format=json_schema,\n",
        "        )\n",
        "\n",
        "        eval_dict = json.loads(response.choices[0].message.content)\n",
        "\n",
        "        return [\n",
        "            score_result.ScoreResult(\n",
        "                name=\"summary_relevance\",\n",
        "                value=eval_dict[\"relevance\"][\"score\"],\n",
        "                reason=eval_dict[\"relevance\"][\"explanation\"],\n",
        "            ),\n",
        "            score_result.ScoreResult(\n",
        "                name=\"summary_conciseness\",\n",
        "                value=eval_dict[\"conciseness\"][\"score\"],\n",
        "                reason=eval_dict[\"conciseness\"][\"explanation\"],\n",
        "            ),\n",
        "            score_result.ScoreResult(\n",
        "                name=\"summary_technical_accuracy\",\n",
        "                value=eval_dict[\"technical_accuracy\"][\"score\"],\n",
        "                reason=eval_dict[\"technical_accuracy\"][\"explanation\"],\n",
        "            ),\n",
        "            score_result.ScoreResult(\n",
        "                name=\"summary_average_score\",\n",
        "                value=round(sum(eval_dict[k][\"score\"] for k in eval_dict) / 3, 2),\n",
        "                reason=\"The average of the 3 summary evaluation metrics\",\n",
        "            ),\n",
        "        ]"
      ]
    },
    {
      "cell_type": "markdown",
      "metadata": {
        "id": "9s8uen5x4yVu"
      },
      "source": [
        "### Create the task we want to evaluate\n",
        "\n",
        "We can now create the task we want to evaluate. In this case, we will have the dataset item as an input and return a dictionary containing the summary and the instruction so that we can use this in the evaluation metrics:"
      ]
    },
    {
      "cell_type": "code",
      "execution_count": 8,
      "metadata": {
        "id": "OWaInuUv4yVu"
      },
      "outputs": [],
      "source": [
        "import requests\n",
        "import io\n",
        "from PyPDF2 import PdfReader\n",
        "from typing import Dict\n",
        "\n",
        "\n",
        "# Load and extract text from PDFs\n",
        "@opik.track\n",
        "def load_pdf(pdf_url: str) -> str:\n",
        "    # Download the PDF\n",
        "    response = requests.get(pdf_url)\n",
        "    pdf_file = io.BytesIO(response.content)\n",
        "\n",
        "    # Read the PDF\n",
        "    pdf_reader = PdfReader(pdf_file)\n",
        "\n",
        "    # Extract text from all pages\n",
        "    text = \"\"\n",
        "    for page in pdf_reader.pages:\n",
        "        text += page.extract_text()\n",
        "\n",
        "    # Truncate the text to 100000 characters as this is the maximum supported by OpenAI\n",
        "    text = text[:100000]\n",
        "    return text\n",
        "\n",
        "\n",
        "def evaluation_task(x: Dict):\n",
        "    text = load_pdf(x[\"pdf_url\"])\n",
        "    instruction = x[\"instruction\"]\n",
        "    model = MODEL\n",
        "    density_iterations = DENSITY_ITERATIONS\n",
        "\n",
        "    result = chain_of_density_summarization(\n",
        "        document=text,\n",
        "        instruction=instruction,\n",
        "        model=model,\n",
        "        density_iterations=density_iterations,\n",
        "    )\n",
        "\n",
        "    return {\"summary\": result}"
      ]
    },
    {
      "cell_type": "markdown",
      "metadata": {
        "id": "jEYAjNs14yVu"
      },
      "source": [
        "### Run the automated evaluation"
      ]
    },
    {
      "cell_type": "markdown",
      "metadata": {
        "id": "x3dhjmKv4yVu"
      },
      "source": [
        "We can now use the `evaluate` method to evaluate the summaries in our dataset:"
      ]
    },
    {
      "cell_type": "code",
      "execution_count": 9,
      "metadata": {
        "id": "dEt7ZGCI4yVu",
        "outputId": "ac4e56a4-d01e-441a-94a4-070479acd64e",
        "colab": {
          "base_uri": "https://localhost:8080/",
          "height": 312,
          "referenced_widgets": [
            "1346298475334e3a9a2e8c37ec6c057b",
            "884d4741f3bd43f3950e0573aee62c5c",
            "484216c130ca46d18160510f3fa061f8",
            "e6964c8f410f4e6e82078b51e4ffc3fc",
            "302ccd299f514cdd966827f9b536f9f9",
            "1b013c82db7141bbbb9d79aa337276df",
            "35d362fc24414a1095b60d8071077b81",
            "ea87ab74f7554d54a70b14cc595e45db",
            "7529903bb0634c499c0cbc5c6a62a046",
            "41114f0cd39b449a9c1658c279733fe6",
            "93ad14ff0b654810bc8e6676dc29a0da"
          ]
        }
      },
      "outputs": [
        {
          "output_type": "display_data",
          "data": {
            "text/plain": [
              "Evaluation:   0%|          | 0/9 [00:00<?, ?it/s]"
            ],
            "application/vnd.jupyter.widget-view+json": {
              "version_major": 2,
              "version_minor": 0,
              "model_id": "1346298475334e3a9a2e8c37ec6c057b"
            }
          },
          "metadata": {}
        },
        {
          "output_type": "stream",
          "name": "stderr",
          "text": [
            "OPIK: Started logging traces to the \"Chain of Density Summarization - Experiments\" project at https://www.comet.com/opik/api/v1/session/redirect/projects/?trace_id=0199fbe4-e333-70e4-b72c-cdec54446f52&path=aHR0cHM6Ly93d3cuY29tZXQuY29tL29waWsvYXBpLw==.\n",
            "OPIK: Started logging traces to the \"Chain of Density Summarization - Experiments\" project at https://www.comet.com/opik/api/v1/session/redirect/projects/?trace_id=0199fbe4-e33c-7845-98e8-b3b1fe975d06&path=aHR0cHM6Ly93d3cuY29tZXQuY29tL29waWsvYXBpLw==.\n"
          ]
        },
        {
          "output_type": "display_data",
          "data": {
            "text/plain": [
              "╭─ arXiv Papers (9 samples) ───────────────╮\n",
              "│                                          │\n",
              "│ \u001b[1mTotal time:       \u001b[0m 00:00:47              │\n",
              "│ \u001b[1mNumber of samples:\u001b[0m 9                     │\n",
              "│                                          │\n",
              "│ \u001b[1;32msummary_relevance: 4.5556 (avg)\u001b[0m          │\n",
              "│ \u001b[1;32msummary_conciseness: 3.7778 (avg)\u001b[0m        │\n",
              "│ \u001b[1;32msummary_technical_accuracy: 4.8889 (avg)\u001b[0m │\n",
              "│ \u001b[1;32msummary_average_score: 4.4100 (avg)\u001b[0m      │\n",
              "│                                          │\n",
              "╰──────────────────────────────────────────╯\n"
            ],
            "text/html": [
              "<pre style=\"white-space:pre;overflow-x:auto;line-height:normal;font-family:Menlo,'DejaVu Sans Mono',consolas,'Courier New',monospace\">╭─ arXiv Papers (9 samples) ───────────────╮\n",
              "│                                          │\n",
              "│ <span style=\"font-weight: bold\">Total time:       </span> 00:00:47              │\n",
              "│ <span style=\"font-weight: bold\">Number of samples:</span> 9                     │\n",
              "│                                          │\n",
              "│ <span style=\"color: #008000; text-decoration-color: #008000; font-weight: bold\">summary_relevance: 4.5556 (avg)</span>          │\n",
              "│ <span style=\"color: #008000; text-decoration-color: #008000; font-weight: bold\">summary_conciseness: 3.7778 (avg)</span>        │\n",
              "│ <span style=\"color: #008000; text-decoration-color: #008000; font-weight: bold\">summary_technical_accuracy: 4.8889 (avg)</span> │\n",
              "│ <span style=\"color: #008000; text-decoration-color: #008000; font-weight: bold\">summary_average_score: 4.4100 (avg)</span>      │\n",
              "│                                          │\n",
              "╰──────────────────────────────────────────╯\n",
              "</pre>\n"
            ]
          },
          "metadata": {}
        },
        {
          "output_type": "display_data",
          "data": {
            "text/plain": [
              "Uploading results to Opik \u001b[33m...\u001b[0m \n"
            ],
            "text/html": [
              "<pre style=\"white-space:pre;overflow-x:auto;line-height:normal;font-family:Menlo,'DejaVu Sans Mono',consolas,'Courier New',monospace\">Uploading results to Opik <span style=\"color: #808000; text-decoration-color: #808000\">...</span> \n",
              "</pre>\n"
            ]
          },
          "metadata": {}
        },
        {
          "output_type": "display_data",
          "data": {
            "text/plain": [
              "View the results \u001b]8;id=362310;https://www.comet.com/opik/api/v1/session/redirect/experiments/?experiment_id=0199fbe4-e270-71ee-b973-9b64122ea95c&dataset_id=0199fbe4-c347-785f-bf3c-250793d49eea&path=aHR0cHM6Ly93d3cuY29tZXQuY29tL29waWsvYXBpLw==\u001b\\in your Opik dashboard\u001b]8;;\u001b\\.\n"
            ],
            "text/html": [
              "<pre style=\"white-space:pre;overflow-x:auto;line-height:normal;font-family:Menlo,'DejaVu Sans Mono',consolas,'Courier New',monospace\">View the results <a href=\"https://www.comet.com/opik/api/v1/session/redirect/experiments/?experiment_id=0199fbe4-e270-71ee-b973-9b64122ea95c&dataset_id=0199fbe4-c347-785f-bf3c-250793d49eea&path=aHR0cHM6Ly93d3cuY29tZXQuY29tL29waWsvYXBpLw==\" target=\"_blank\">in your Opik dashboard</a>.\n",
              "</pre>\n"
            ]
          },
          "metadata": {}
        }
      ],
      "source": [
        "from opik.evaluation import evaluate\n",
        "\n",
        "MODEL = \"gpt-4o-mini\"\n",
        "DENSITY_ITERATIONS = 2\n",
        "\n",
        "experiment_config = {\n",
        "    \"model\": MODEL,\n",
        "    \"density_iterations\": DENSITY_ITERATIONS,\n",
        "}\n",
        "\n",
        "res = evaluate(\n",
        "    dataset=dataset,\n",
        "    experiment_config=experiment_config,\n",
        "    task=evaluation_task,\n",
        "    scoring_metrics=[EvaluateSummary(name=\"summary-metrics\")],\n",
        "    prompts=[ITERATION_SUMMARY_PROMPT, FINAL_SUMMARY_PROMPT],\n",
        "    project_name=\"Chain of Density Summarization - Experiments\",\n",
        ")"
      ]
    },
    {
      "cell_type": "markdown",
      "metadata": {
        "id": "k4g8-dJI4yVu"
      },
      "source": [
        "The experiment results are now available in the Opik UI:\n",
        "\n",
        "![Trace UI](https://raw.githubusercontent.com/comet-ml/opik/main/apps/opik-documentation/documentation/static/img/cookbook/chain_density_experiment_cookbook.png)\n"
      ]
    },
    {
      "cell_type": "markdown",
      "metadata": {
        "id": "TDfKLGI14yVu"
      },
      "source": [
        "## Comparing prompt templates\n",
        "\n",
        "We will update the iteration summary prompt and evaluate its impact on the evaluation metrics."
      ]
    },
    {
      "cell_type": "code",
      "execution_count": 10,
      "metadata": {
        "id": "m9c22VpW4yVv"
      },
      "outputs": [],
      "source": [
        "import opik\n",
        "\n",
        "ITERATION_SUMMARY_PROMPT = opik.Prompt(\n",
        "    name=\"Iteration Summary Prompt\",\n",
        "    prompt=\"\"\"Document: {{document}}\n",
        "Current summary: {{current_summary}}\n",
        "Instruction to focus on: {{instruction}}\n",
        "\n",
        "Generate a concise, entity-dense, and highly technical summary from the provided Document that specifically addresses the given Instruction.\n",
        "\n",
        "Guidelines:\n",
        "1. **Maximize Clarity and Density**: Revise the current summary to enhance flow, density, and conciseness.\n",
        "2. **Eliminate Redundant Language**: Avoid uninformative phrases such as \"the article discusses.\"\n",
        "3. **Ensure Self-Containment**: The summary should be dense and concise, easily understandable without referring back to the document.\n",
        "4. **Align with Instruction**: Make sure the summary specifically addresses the given instruction.\n",
        "\n",
        "\"\"\".rstrip().lstrip(),\n",
        ")"
      ]
    },
    {
      "cell_type": "code",
      "execution_count": 11,
      "metadata": {
        "id": "igfzFV1Y4yVv",
        "outputId": "e07631b8-3060-4977-a187-df48c92fd975",
        "colab": {
          "base_uri": "https://localhost:8080/",
          "height": 257,
          "referenced_widgets": [
            "6443409501794500b34f01e96f8c1c89",
            "6efb68b3078a469d9b08ba2c0e17aa91",
            "1001a9f0c1c04ec7a211f3d0a7b66bc2",
            "e8c97127e8b34ae383af306e66e02a96",
            "e5281362643d4959ac3d9722d5568b5f",
            "f60022637cd947b9b0881e54ca793229",
            "8a619cccd9f74e93ac98d91118cd4d85",
            "7df7a34a1830458c970bffa8037ceb22",
            "d96af46b70964a34b7214f238b812a24",
            "4d13f3f4dfb6426d94a55664b85d7d71",
            "bbcfb5b540d444c7b24fa8d77cc7441d"
          ]
        }
      },
      "outputs": [
        {
          "output_type": "display_data",
          "data": {
            "text/plain": [
              "Evaluation:   0%|          | 0/9 [00:00<?, ?it/s]"
            ],
            "application/vnd.jupyter.widget-view+json": {
              "version_major": 2,
              "version_minor": 0,
              "model_id": "6443409501794500b34f01e96f8c1c89"
            }
          },
          "metadata": {}
        },
        {
          "output_type": "display_data",
          "data": {
            "text/plain": [
              "╭─ arXiv Papers (9 samples) ───────────────╮\n",
              "│                                          │\n",
              "│ \u001b[1mTotal time:       \u001b[0m 00:00:50              │\n",
              "│ \u001b[1mNumber of samples:\u001b[0m 9                     │\n",
              "│                                          │\n",
              "│ \u001b[1;32msummary_relevance: 4.4444 (avg)\u001b[0m          │\n",
              "│ \u001b[1;32msummary_conciseness: 3.8889 (avg)\u001b[0m        │\n",
              "│ \u001b[1;32msummary_technical_accuracy: 4.8889 (avg)\u001b[0m │\n",
              "│ \u001b[1;32msummary_average_score: 4.4100 (avg)\u001b[0m      │\n",
              "│                                          │\n",
              "╰──────────────────────────────────────────╯\n"
            ],
            "text/html": [
              "<pre style=\"white-space:pre;overflow-x:auto;line-height:normal;font-family:Menlo,'DejaVu Sans Mono',consolas,'Courier New',monospace\">╭─ arXiv Papers (9 samples) ───────────────╮\n",
              "│                                          │\n",
              "│ <span style=\"font-weight: bold\">Total time:       </span> 00:00:50              │\n",
              "│ <span style=\"font-weight: bold\">Number of samples:</span> 9                     │\n",
              "│                                          │\n",
              "│ <span style=\"color: #008000; text-decoration-color: #008000; font-weight: bold\">summary_relevance: 4.4444 (avg)</span>          │\n",
              "│ <span style=\"color: #008000; text-decoration-color: #008000; font-weight: bold\">summary_conciseness: 3.8889 (avg)</span>        │\n",
              "│ <span style=\"color: #008000; text-decoration-color: #008000; font-weight: bold\">summary_technical_accuracy: 4.8889 (avg)</span> │\n",
              "│ <span style=\"color: #008000; text-decoration-color: #008000; font-weight: bold\">summary_average_score: 4.4100 (avg)</span>      │\n",
              "│                                          │\n",
              "╰──────────────────────────────────────────╯\n",
              "</pre>\n"
            ]
          },
          "metadata": {}
        },
        {
          "output_type": "display_data",
          "data": {
            "text/plain": [
              "Uploading results to Opik \u001b[33m...\u001b[0m \n"
            ],
            "text/html": [
              "<pre style=\"white-space:pre;overflow-x:auto;line-height:normal;font-family:Menlo,'DejaVu Sans Mono',consolas,'Courier New',monospace\">Uploading results to Opik <span style=\"color: #808000; text-decoration-color: #808000\">...</span> \n",
              "</pre>\n"
            ]
          },
          "metadata": {}
        },
        {
          "output_type": "display_data",
          "data": {
            "text/plain": [
              "View the results \u001b]8;id=552504;https://www.comet.com/opik/api/v1/session/redirect/experiments/?experiment_id=0199fbe5-9d34-724a-9786-a1b598ace139&dataset_id=0199fbe4-c347-785f-bf3c-250793d49eea&path=aHR0cHM6Ly93d3cuY29tZXQuY29tL29waWsvYXBpLw==\u001b\\in your Opik dashboard\u001b]8;;\u001b\\.\n"
            ],
            "text/html": [
              "<pre style=\"white-space:pre;overflow-x:auto;line-height:normal;font-family:Menlo,'DejaVu Sans Mono',consolas,'Courier New',monospace\">View the results <a href=\"https://www.comet.com/opik/api/v1/session/redirect/experiments/?experiment_id=0199fbe5-9d34-724a-9786-a1b598ace139&dataset_id=0199fbe4-c347-785f-bf3c-250793d49eea&path=aHR0cHM6Ly93d3cuY29tZXQuY29tL29waWsvYXBpLw==\" target=\"_blank\">in your Opik dashboard</a>.\n",
              "</pre>\n"
            ]
          },
          "metadata": {}
        }
      ],
      "source": [
        "from opik.evaluation import evaluate\n",
        "\n",
        "MODEL = \"gpt-4o-mini\"\n",
        "DENSITY_ITERATIONS = 2\n",
        "\n",
        "experiment_config = {\n",
        "    \"model\": MODEL,\n",
        "    \"density_iterations\": DENSITY_ITERATIONS,\n",
        "}\n",
        "\n",
        "res = evaluate(\n",
        "    dataset=dataset,\n",
        "    experiment_config=experiment_config,\n",
        "    task=evaluation_task,\n",
        "    scoring_metrics=[EvaluateSummary(name=\"summary-metrics\")],\n",
        "    prompts=[ITERATION_SUMMARY_PROMPT, FINAL_SUMMARY_PROMPT],\n",
        "    project_name=\"Chain of Density Summarization - Experiments\",\n",
        ")"
      ]
    },
    {
      "cell_type": "markdown",
      "metadata": {
        "id": "aedq3Wy-4yVv"
      },
      "source": [
        "You can now compare the results between the two experiments in the Opik UI:\n",
        "\n",
        "![Trace UI](https://raw.githubusercontent.com/comet-ml/opik/main/apps/opik-documentation/documentation/static/img/cookbook/chain_density_trace_comparison_cookbook.png)"
      ]
    }
  ],
  "metadata": {
    "kernelspec": {
      "display_name": "py312_llm_eval",
      "language": "python",
      "name": "python3"
    },
    "language_info": {
      "codemirror_mode": {
        "name": "ipython",
        "version": 3
      },
      "file_extension": ".py",
      "mimetype": "text/x-python",
      "name": "python",
      "nbconvert_exporter": "python",
      "pygments_lexer": "ipython3",
      "version": "3.12.4"
    },
    "colab": {
      "provenance": [],
      "include_colab_link": true
    },
    "widgets": {
      "application/vnd.jupyter.widget-state+json": {
        "1346298475334e3a9a2e8c37ec6c057b": {
          "model_module": "@jupyter-widgets/controls",
          "model_name": "HBoxModel",
          "model_module_version": "1.5.0",
          "state": {
            "_dom_classes": [],
            "_model_module": "@jupyter-widgets/controls",
            "_model_module_version": "1.5.0",
            "_model_name": "HBoxModel",
            "_view_count": null,
            "_view_module": "@jupyter-widgets/controls",
            "_view_module_version": "1.5.0",
            "_view_name": "HBoxView",
            "box_style": "",
            "children": [
              "IPY_MODEL_884d4741f3bd43f3950e0573aee62c5c",
              "IPY_MODEL_484216c130ca46d18160510f3fa061f8",
              "IPY_MODEL_e6964c8f410f4e6e82078b51e4ffc3fc"
            ],
            "layout": "IPY_MODEL_302ccd299f514cdd966827f9b536f9f9"
          }
        },
        "884d4741f3bd43f3950e0573aee62c5c": {
          "model_module": "@jupyter-widgets/controls",
          "model_name": "HTMLModel",
          "model_module_version": "1.5.0",
          "state": {
            "_dom_classes": [],
            "_model_module": "@jupyter-widgets/controls",
            "_model_module_version": "1.5.0",
            "_model_name": "HTMLModel",
            "_view_count": null,
            "_view_module": "@jupyter-widgets/controls",
            "_view_module_version": "1.5.0",
            "_view_name": "HTMLView",
            "description": "",
            "description_tooltip": null,
            "layout": "IPY_MODEL_1b013c82db7141bbbb9d79aa337276df",
            "placeholder": "​",
            "style": "IPY_MODEL_35d362fc24414a1095b60d8071077b81",
            "value": "Evaluation: 100%"
          }
        },
        "484216c130ca46d18160510f3fa061f8": {
          "model_module": "@jupyter-widgets/controls",
          "model_name": "FloatProgressModel",
          "model_module_version": "1.5.0",
          "state": {
            "_dom_classes": [],
            "_model_module": "@jupyter-widgets/controls",
            "_model_module_version": "1.5.0",
            "_model_name": "FloatProgressModel",
            "_view_count": null,
            "_view_module": "@jupyter-widgets/controls",
            "_view_module_version": "1.5.0",
            "_view_name": "ProgressView",
            "bar_style": "success",
            "description": "",
            "description_tooltip": null,
            "layout": "IPY_MODEL_ea87ab74f7554d54a70b14cc595e45db",
            "max": 9,
            "min": 0,
            "orientation": "horizontal",
            "style": "IPY_MODEL_7529903bb0634c499c0cbc5c6a62a046",
            "value": 9
          }
        },
        "e6964c8f410f4e6e82078b51e4ffc3fc": {
          "model_module": "@jupyter-widgets/controls",
          "model_name": "HTMLModel",
          "model_module_version": "1.5.0",
          "state": {
            "_dom_classes": [],
            "_model_module": "@jupyter-widgets/controls",
            "_model_module_version": "1.5.0",
            "_model_name": "HTMLModel",
            "_view_count": null,
            "_view_module": "@jupyter-widgets/controls",
            "_view_module_version": "1.5.0",
            "_view_name": "HTMLView",
            "description": "",
            "description_tooltip": null,
            "layout": "IPY_MODEL_41114f0cd39b449a9c1658c279733fe6",
            "placeholder": "​",
            "style": "IPY_MODEL_93ad14ff0b654810bc8e6676dc29a0da",
            "value": " 9/9 [00:46&lt;00:00,  5.95s/it]"
          }
        },
        "302ccd299f514cdd966827f9b536f9f9": {
          "model_module": "@jupyter-widgets/base",
          "model_name": "LayoutModel",
          "model_module_version": "1.2.0",
          "state": {
            "_model_module": "@jupyter-widgets/base",
            "_model_module_version": "1.2.0",
            "_model_name": "LayoutModel",
            "_view_count": null,
            "_view_module": "@jupyter-widgets/base",
            "_view_module_version": "1.2.0",
            "_view_name": "LayoutView",
            "align_content": null,
            "align_items": null,
            "align_self": null,
            "border": null,
            "bottom": null,
            "display": null,
            "flex": null,
            "flex_flow": null,
            "grid_area": null,
            "grid_auto_columns": null,
            "grid_auto_flow": null,
            "grid_auto_rows": null,
            "grid_column": null,
            "grid_gap": null,
            "grid_row": null,
            "grid_template_areas": null,
            "grid_template_columns": null,
            "grid_template_rows": null,
            "height": null,
            "justify_content": null,
            "justify_items": null,
            "left": null,
            "margin": null,
            "max_height": null,
            "max_width": null,
            "min_height": null,
            "min_width": null,
            "object_fit": null,
            "object_position": null,
            "order": null,
            "overflow": null,
            "overflow_x": null,
            "overflow_y": null,
            "padding": null,
            "right": null,
            "top": null,
            "visibility": null,
            "width": null
          }
        },
        "1b013c82db7141bbbb9d79aa337276df": {
          "model_module": "@jupyter-widgets/base",
          "model_name": "LayoutModel",
          "model_module_version": "1.2.0",
          "state": {
            "_model_module": "@jupyter-widgets/base",
            "_model_module_version": "1.2.0",
            "_model_name": "LayoutModel",
            "_view_count": null,
            "_view_module": "@jupyter-widgets/base",
            "_view_module_version": "1.2.0",
            "_view_name": "LayoutView",
            "align_content": null,
            "align_items": null,
            "align_self": null,
            "border": null,
            "bottom": null,
            "display": null,
            "flex": null,
            "flex_flow": null,
            "grid_area": null,
            "grid_auto_columns": null,
            "grid_auto_flow": null,
            "grid_auto_rows": null,
            "grid_column": null,
            "grid_gap": null,
            "grid_row": null,
            "grid_template_areas": null,
            "grid_template_columns": null,
            "grid_template_rows": null,
            "height": null,
            "justify_content": null,
            "justify_items": null,
            "left": null,
            "margin": null,
            "max_height": null,
            "max_width": null,
            "min_height": null,
            "min_width": null,
            "object_fit": null,
            "object_position": null,
            "order": null,
            "overflow": null,
            "overflow_x": null,
            "overflow_y": null,
            "padding": null,
            "right": null,
            "top": null,
            "visibility": null,
            "width": null
          }
        },
        "35d362fc24414a1095b60d8071077b81": {
          "model_module": "@jupyter-widgets/controls",
          "model_name": "DescriptionStyleModel",
          "model_module_version": "1.5.0",
          "state": {
            "_model_module": "@jupyter-widgets/controls",
            "_model_module_version": "1.5.0",
            "_model_name": "DescriptionStyleModel",
            "_view_count": null,
            "_view_module": "@jupyter-widgets/base",
            "_view_module_version": "1.2.0",
            "_view_name": "StyleView",
            "description_width": ""
          }
        },
        "ea87ab74f7554d54a70b14cc595e45db": {
          "model_module": "@jupyter-widgets/base",
          "model_name": "LayoutModel",
          "model_module_version": "1.2.0",
          "state": {
            "_model_module": "@jupyter-widgets/base",
            "_model_module_version": "1.2.0",
            "_model_name": "LayoutModel",
            "_view_count": null,
            "_view_module": "@jupyter-widgets/base",
            "_view_module_version": "1.2.0",
            "_view_name": "LayoutView",
            "align_content": null,
            "align_items": null,
            "align_self": null,
            "border": null,
            "bottom": null,
            "display": null,
            "flex": null,
            "flex_flow": null,
            "grid_area": null,
            "grid_auto_columns": null,
            "grid_auto_flow": null,
            "grid_auto_rows": null,
            "grid_column": null,
            "grid_gap": null,
            "grid_row": null,
            "grid_template_areas": null,
            "grid_template_columns": null,
            "grid_template_rows": null,
            "height": null,
            "justify_content": null,
            "justify_items": null,
            "left": null,
            "margin": null,
            "max_height": null,
            "max_width": null,
            "min_height": null,
            "min_width": null,
            "object_fit": null,
            "object_position": null,
            "order": null,
            "overflow": null,
            "overflow_x": null,
            "overflow_y": null,
            "padding": null,
            "right": null,
            "top": null,
            "visibility": null,
            "width": null
          }
        },
        "7529903bb0634c499c0cbc5c6a62a046": {
          "model_module": "@jupyter-widgets/controls",
          "model_name": "ProgressStyleModel",
          "model_module_version": "1.5.0",
          "state": {
            "_model_module": "@jupyter-widgets/controls",
            "_model_module_version": "1.5.0",
            "_model_name": "ProgressStyleModel",
            "_view_count": null,
            "_view_module": "@jupyter-widgets/base",
            "_view_module_version": "1.2.0",
            "_view_name": "StyleView",
            "bar_color": null,
            "description_width": ""
          }
        },
        "41114f0cd39b449a9c1658c279733fe6": {
          "model_module": "@jupyter-widgets/base",
          "model_name": "LayoutModel",
          "model_module_version": "1.2.0",
          "state": {
            "_model_module": "@jupyter-widgets/base",
            "_model_module_version": "1.2.0",
            "_model_name": "LayoutModel",
            "_view_count": null,
            "_view_module": "@jupyter-widgets/base",
            "_view_module_version": "1.2.0",
            "_view_name": "LayoutView",
            "align_content": null,
            "align_items": null,
            "align_self": null,
            "border": null,
            "bottom": null,
            "display": null,
            "flex": null,
            "flex_flow": null,
            "grid_area": null,
            "grid_auto_columns": null,
            "grid_auto_flow": null,
            "grid_auto_rows": null,
            "grid_column": null,
            "grid_gap": null,
            "grid_row": null,
            "grid_template_areas": null,
            "grid_template_columns": null,
            "grid_template_rows": null,
            "height": null,
            "justify_content": null,
            "justify_items": null,
            "left": null,
            "margin": null,
            "max_height": null,
            "max_width": null,
            "min_height": null,
            "min_width": null,
            "object_fit": null,
            "object_position": null,
            "order": null,
            "overflow": null,
            "overflow_x": null,
            "overflow_y": null,
            "padding": null,
            "right": null,
            "top": null,
            "visibility": null,
            "width": null
          }
        },
        "93ad14ff0b654810bc8e6676dc29a0da": {
          "model_module": "@jupyter-widgets/controls",
          "model_name": "DescriptionStyleModel",
          "model_module_version": "1.5.0",
          "state": {
            "_model_module": "@jupyter-widgets/controls",
            "_model_module_version": "1.5.0",
            "_model_name": "DescriptionStyleModel",
            "_view_count": null,
            "_view_module": "@jupyter-widgets/base",
            "_view_module_version": "1.2.0",
            "_view_name": "StyleView",
            "description_width": ""
          }
        },
        "6443409501794500b34f01e96f8c1c89": {
          "model_module": "@jupyter-widgets/controls",
          "model_name": "HBoxModel",
          "model_module_version": "1.5.0",
          "state": {
            "_dom_classes": [],
            "_model_module": "@jupyter-widgets/controls",
            "_model_module_version": "1.5.0",
            "_model_name": "HBoxModel",
            "_view_count": null,
            "_view_module": "@jupyter-widgets/controls",
            "_view_module_version": "1.5.0",
            "_view_name": "HBoxView",
            "box_style": "",
            "children": [
              "IPY_MODEL_6efb68b3078a469d9b08ba2c0e17aa91",
              "IPY_MODEL_1001a9f0c1c04ec7a211f3d0a7b66bc2",
              "IPY_MODEL_e8c97127e8b34ae383af306e66e02a96"
            ],
            "layout": "IPY_MODEL_e5281362643d4959ac3d9722d5568b5f"
          }
        },
        "6efb68b3078a469d9b08ba2c0e17aa91": {
          "model_module": "@jupyter-widgets/controls",
          "model_name": "HTMLModel",
          "model_module_version": "1.5.0",
          "state": {
            "_dom_classes": [],
            "_model_module": "@jupyter-widgets/controls",
            "_model_module_version": "1.5.0",
            "_model_name": "HTMLModel",
            "_view_count": null,
            "_view_module": "@jupyter-widgets/controls",
            "_view_module_version": "1.5.0",
            "_view_name": "HTMLView",
            "description": "",
            "description_tooltip": null,
            "layout": "IPY_MODEL_f60022637cd947b9b0881e54ca793229",
            "placeholder": "​",
            "style": "IPY_MODEL_8a619cccd9f74e93ac98d91118cd4d85",
            "value": "Evaluation: 100%"
          }
        },
        "1001a9f0c1c04ec7a211f3d0a7b66bc2": {
          "model_module": "@jupyter-widgets/controls",
          "model_name": "FloatProgressModel",
          "model_module_version": "1.5.0",
          "state": {
            "_dom_classes": [],
            "_model_module": "@jupyter-widgets/controls",
            "_model_module_version": "1.5.0",
            "_model_name": "FloatProgressModel",
            "_view_count": null,
            "_view_module": "@jupyter-widgets/controls",
            "_view_module_version": "1.5.0",
            "_view_name": "ProgressView",
            "bar_style": "success",
            "description": "",
            "description_tooltip": null,
            "layout": "IPY_MODEL_7df7a34a1830458c970bffa8037ceb22",
            "max": 9,
            "min": 0,
            "orientation": "horizontal",
            "style": "IPY_MODEL_d96af46b70964a34b7214f238b812a24",
            "value": 9
          }
        },
        "e8c97127e8b34ae383af306e66e02a96": {
          "model_module": "@jupyter-widgets/controls",
          "model_name": "HTMLModel",
          "model_module_version": "1.5.0",
          "state": {
            "_dom_classes": [],
            "_model_module": "@jupyter-widgets/controls",
            "_model_module_version": "1.5.0",
            "_model_name": "HTMLModel",
            "_view_count": null,
            "_view_module": "@jupyter-widgets/controls",
            "_view_module_version": "1.5.0",
            "_view_name": "HTMLView",
            "description": "",
            "description_tooltip": null,
            "layout": "IPY_MODEL_4d13f3f4dfb6426d94a55664b85d7d71",
            "placeholder": "​",
            "style": "IPY_MODEL_bbcfb5b540d444c7b24fa8d77cc7441d",
            "value": " 9/9 [00:49&lt;00:00,  7.38s/it]"
          }
        },
        "e5281362643d4959ac3d9722d5568b5f": {
          "model_module": "@jupyter-widgets/base",
          "model_name": "LayoutModel",
          "model_module_version": "1.2.0",
          "state": {
            "_model_module": "@jupyter-widgets/base",
            "_model_module_version": "1.2.0",
            "_model_name": "LayoutModel",
            "_view_count": null,
            "_view_module": "@jupyter-widgets/base",
            "_view_module_version": "1.2.0",
            "_view_name": "LayoutView",
            "align_content": null,
            "align_items": null,
            "align_self": null,
            "border": null,
            "bottom": null,
            "display": null,
            "flex": null,
            "flex_flow": null,
            "grid_area": null,
            "grid_auto_columns": null,
            "grid_auto_flow": null,
            "grid_auto_rows": null,
            "grid_column": null,
            "grid_gap": null,
            "grid_row": null,
            "grid_template_areas": null,
            "grid_template_columns": null,
            "grid_template_rows": null,
            "height": null,
            "justify_content": null,
            "justify_items": null,
            "left": null,
            "margin": null,
            "max_height": null,
            "max_width": null,
            "min_height": null,
            "min_width": null,
            "object_fit": null,
            "object_position": null,
            "order": null,
            "overflow": null,
            "overflow_x": null,
            "overflow_y": null,
            "padding": null,
            "right": null,
            "top": null,
            "visibility": null,
            "width": null
          }
        },
        "f60022637cd947b9b0881e54ca793229": {
          "model_module": "@jupyter-widgets/base",
          "model_name": "LayoutModel",
          "model_module_version": "1.2.0",
          "state": {
            "_model_module": "@jupyter-widgets/base",
            "_model_module_version": "1.2.0",
            "_model_name": "LayoutModel",
            "_view_count": null,
            "_view_module": "@jupyter-widgets/base",
            "_view_module_version": "1.2.0",
            "_view_name": "LayoutView",
            "align_content": null,
            "align_items": null,
            "align_self": null,
            "border": null,
            "bottom": null,
            "display": null,
            "flex": null,
            "flex_flow": null,
            "grid_area": null,
            "grid_auto_columns": null,
            "grid_auto_flow": null,
            "grid_auto_rows": null,
            "grid_column": null,
            "grid_gap": null,
            "grid_row": null,
            "grid_template_areas": null,
            "grid_template_columns": null,
            "grid_template_rows": null,
            "height": null,
            "justify_content": null,
            "justify_items": null,
            "left": null,
            "margin": null,
            "max_height": null,
            "max_width": null,
            "min_height": null,
            "min_width": null,
            "object_fit": null,
            "object_position": null,
            "order": null,
            "overflow": null,
            "overflow_x": null,
            "overflow_y": null,
            "padding": null,
            "right": null,
            "top": null,
            "visibility": null,
            "width": null
          }
        },
        "8a619cccd9f74e93ac98d91118cd4d85": {
          "model_module": "@jupyter-widgets/controls",
          "model_name": "DescriptionStyleModel",
          "model_module_version": "1.5.0",
          "state": {
            "_model_module": "@jupyter-widgets/controls",
            "_model_module_version": "1.5.0",
            "_model_name": "DescriptionStyleModel",
            "_view_count": null,
            "_view_module": "@jupyter-widgets/base",
            "_view_module_version": "1.2.0",
            "_view_name": "StyleView",
            "description_width": ""
          }
        },
        "7df7a34a1830458c970bffa8037ceb22": {
          "model_module": "@jupyter-widgets/base",
          "model_name": "LayoutModel",
          "model_module_version": "1.2.0",
          "state": {
            "_model_module": "@jupyter-widgets/base",
            "_model_module_version": "1.2.0",
            "_model_name": "LayoutModel",
            "_view_count": null,
            "_view_module": "@jupyter-widgets/base",
            "_view_module_version": "1.2.0",
            "_view_name": "LayoutView",
            "align_content": null,
            "align_items": null,
            "align_self": null,
            "border": null,
            "bottom": null,
            "display": null,
            "flex": null,
            "flex_flow": null,
            "grid_area": null,
            "grid_auto_columns": null,
            "grid_auto_flow": null,
            "grid_auto_rows": null,
            "grid_column": null,
            "grid_gap": null,
            "grid_row": null,
            "grid_template_areas": null,
            "grid_template_columns": null,
            "grid_template_rows": null,
            "height": null,
            "justify_content": null,
            "justify_items": null,
            "left": null,
            "margin": null,
            "max_height": null,
            "max_width": null,
            "min_height": null,
            "min_width": null,
            "object_fit": null,
            "object_position": null,
            "order": null,
            "overflow": null,
            "overflow_x": null,
            "overflow_y": null,
            "padding": null,
            "right": null,
            "top": null,
            "visibility": null,
            "width": null
          }
        },
        "d96af46b70964a34b7214f238b812a24": {
          "model_module": "@jupyter-widgets/controls",
          "model_name": "ProgressStyleModel",
          "model_module_version": "1.5.0",
          "state": {
            "_model_module": "@jupyter-widgets/controls",
            "_model_module_version": "1.5.0",
            "_model_name": "ProgressStyleModel",
            "_view_count": null,
            "_view_module": "@jupyter-widgets/base",
            "_view_module_version": "1.2.0",
            "_view_name": "StyleView",
            "bar_color": null,
            "description_width": ""
          }
        },
        "4d13f3f4dfb6426d94a55664b85d7d71": {
          "model_module": "@jupyter-widgets/base",
          "model_name": "LayoutModel",
          "model_module_version": "1.2.0",
          "state": {
            "_model_module": "@jupyter-widgets/base",
            "_model_module_version": "1.2.0",
            "_model_name": "LayoutModel",
            "_view_count": null,
            "_view_module": "@jupyter-widgets/base",
            "_view_module_version": "1.2.0",
            "_view_name": "LayoutView",
            "align_content": null,
            "align_items": null,
            "align_self": null,
            "border": null,
            "bottom": null,
            "display": null,
            "flex": null,
            "flex_flow": null,
            "grid_area": null,
            "grid_auto_columns": null,
            "grid_auto_flow": null,
            "grid_auto_rows": null,
            "grid_column": null,
            "grid_gap": null,
            "grid_row": null,
            "grid_template_areas": null,
            "grid_template_columns": null,
            "grid_template_rows": null,
            "height": null,
            "justify_content": null,
            "justify_items": null,
            "left": null,
            "margin": null,
            "max_height": null,
            "max_width": null,
            "min_height": null,
            "min_width": null,
            "object_fit": null,
            "object_position": null,
            "order": null,
            "overflow": null,
            "overflow_x": null,
            "overflow_y": null,
            "padding": null,
            "right": null,
            "top": null,
            "visibility": null,
            "width": null
          }
        },
        "bbcfb5b540d444c7b24fa8d77cc7441d": {
          "model_module": "@jupyter-widgets/controls",
          "model_name": "DescriptionStyleModel",
          "model_module_version": "1.5.0",
          "state": {
            "_model_module": "@jupyter-widgets/controls",
            "_model_module_version": "1.5.0",
            "_model_name": "DescriptionStyleModel",
            "_view_count": null,
            "_view_module": "@jupyter-widgets/base",
            "_view_module_version": "1.2.0",
            "_view_name": "StyleView",
            "description_width": ""
          }
        }
      }
    }
  },
  "nbformat": 4,
  "nbformat_minor": 0
}